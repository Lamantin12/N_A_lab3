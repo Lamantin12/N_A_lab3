{
 "cells": [
  {
   "cell_type": "markdown",
   "id": "beb8b78c",
   "metadata": {},
   "source": [
    "# Лабораторная работа №3\n",
    "\n",
    "**Выполнена студентом группы А-05-20 Ходосевичем Леонидом**  \n",
    "**Вариант 25**"
   ]
  },
  {
   "cell_type": "code",
   "execution_count": 2,
   "id": "756c66fa",
   "metadata": {},
   "outputs": [],
   "source": [
    "import numpy as np\n",
    "import matplotlib.pyplot as plt\n",
    "\n",
    "N = 25\n",
    "K = 0"
   ]
  },
  {
   "cell_type": "markdown",
   "id": "37c5de8d",
   "metadata": {},
   "source": [
    "# Задача 3.1.  \n",
    "Реализовать решение СЛАУ с помощью LU разложения и LU разложения по схеме частичного выбора.   \n",
    "Решить систему небольшой размерности с возмущенной матрицей обоими методами,   \n",
    "оценить погрешность и сравнить с теоретической оценкой.   \n",
    "Проанализировать поведение  методов с ростом числа уравнений.  "
   ]
  },
  {
   "cell_type": "code",
   "execution_count": 3,
   "id": "3b1d24d2",
   "metadata": {},
   "outputs": [
    {
     "name": "stdout",
     "output_type": "stream",
     "text": [
      "1\n",
      "1\n"
     ]
    }
   ],
   "source": [
    "print((N+K) % 2)\n",
    "print((N+K) % 4)"
   ]
  },
  {
   "cell_type": "markdown",
   "id": "28d88c45",
   "metadata": {},
   "source": [
    "Решение с помощью LU модифицирует исходную матрицу А;   \n",
    "Решение с помощью LU по схеме частичного выбора реализовано в виде двух функций, одна из которых возвращает две матрицы – L и U, не модифицируя A, а вторая функция решает систему.  \n",
    "  \n",
    "$ A_{ij} = \\frac{1}{70 - 3i - j}$"
   ]
  },
  {
   "cell_type": "markdown",
   "id": "24fc1f95",
   "metadata": {},
   "source": [
    "Создаем матрицу L, а так же реализуем функции для создания матриц А(с погрешностью и без) и вектора b"
   ]
  },
  {
   "cell_type": "code",
   "execution_count": 4,
   "id": "e43565a7",
   "metadata": {},
   "outputs": [],
   "source": [
    "def create_matrix_with_error(n_1):\n",
    "    A_1 = np.zeros((n_1,n_1))\n",
    "    for i in range(n_1):\n",
    "        for j in range(n_1):\n",
    "            A_1[i][j] = 1 / (70 - 3*i - j)\n",
    "    A_1[0][0] += 0.001\n",
    "    return A_1\n",
    "\n",
    "def create_matrix_without_error(n_2):\n",
    "    A_2 = np.zeros((n_2,n_2))\n",
    "    for i in range(n_2):\n",
    "        for j in range(n_2):\n",
    "            A_2[i][j] = 1 / (70 - 3*i - j)\n",
    "    return A_2\n",
    "\n",
    "def create_vector(n_b):\n",
    "    x_for_b = [N for i in range(n_b)]\n",
    "    A_for_b = create_matrix_without_error(n_b)\n",
    "    x_for_b = np.asarray(x_for_b)\n",
    "    b_result = np.dot(A_for_b,x_for_b)\n",
    "    return(b_result)"
   ]
  },
  {
   "cell_type": "code",
   "execution_count": 5,
   "id": "80cf87be",
   "metadata": {},
   "outputs": [],
   "source": [
    "from LU import lu_decomposion "
   ]
  },
  {
   "cell_type": "code",
   "execution_count": 6,
   "id": "546fa95d",
   "metadata": {
    "scrolled": true
   },
   "outputs": [
    {
     "data": {
      "text/plain": [
       "matrix([[24.99960815],\n",
       "        [25.00147095],\n",
       "        [24.99793146],\n",
       "        [25.00129147],\n",
       "        [24.99969797]])"
      ]
     },
     "execution_count": 6,
     "metadata": {},
     "output_type": "execute_result"
    }
   ],
   "source": [
    "first_without_error = lu_decomposion(create_matrix_without_error(5))\n",
    "first_without_error.fit(partial_pivoting=False, change_origin=True)\n",
    "first_without_error.solve(create_vector(5))"
   ]
  },
  {
   "cell_type": "markdown",
   "id": "dc8e544e",
   "metadata": {},
   "source": [
    "Как видим метод без погрешности сошелся"
   ]
  },
  {
   "cell_type": "code",
   "execution_count": 7,
   "id": "18bf1d10",
   "metadata": {},
   "outputs": [
    {
     "data": {
      "text/plain": [
       "array([25.00023964, 24.99910044, 25.00126495, 24.99921028, 25.00018468])"
      ]
     },
     "execution_count": 7,
     "metadata": {},
     "output_type": "execute_result"
    }
   ],
   "source": [
    "np.linalg.solve(create_matrix_without_error(5), create_vector(5))"
   ]
  },
  {
   "cell_type": "code",
   "execution_count": 8,
   "id": "b0ef7907",
   "metadata": {},
   "outputs": [
    {
     "data": {
      "text/plain": [
       "matrix([[ 5.29356330e-08],\n",
       "        [ 1.18734184e+02],\n",
       "        [-1.06650883e+02],\n",
       "        [ 1.07089563e+02],\n",
       "        [ 5.82709608e+00]])"
      ]
     },
     "execution_count": 8,
     "metadata": {},
     "output_type": "execute_result"
    }
   ],
   "source": [
    "first_without_error = lu_decomposion(create_matrix_with_error(5))\n",
    "first_without_error.fit(partial_pivoting=False, change_origin=True)\n",
    "first_without_error.solve(create_vector(5))"
   ]
  },
  {
   "cell_type": "markdown",
   "id": "f2dee269",
   "metadata": {},
   "source": [
    "Как видим метод с погрешностью сошелся со встроенной функцией, но ответ не верный, это объясняется  \n",
    "плохой обусловленностью матрицы А, это показано в подпункте 2"
   ]
  },
  {
   "cell_type": "code",
   "execution_count": 9,
   "id": "3dab447b",
   "metadata": {},
   "outputs": [
    {
     "data": {
      "text/plain": [
       "array([ 5.29373391e-08,  1.18734179e+02, -1.06650869e+02,  1.07089550e+02,\n",
       "        5.82710024e+00])"
      ]
     },
     "execution_count": 9,
     "metadata": {},
     "output_type": "execute_result"
    }
   ],
   "source": [
    "np.linalg.solve(create_matrix_with_error(5), create_vector(5))"
   ]
  },
  {
   "cell_type": "markdown",
   "id": "9fcc03ad",
   "metadata": {},
   "source": [
    "# подпункт 2\n",
    "Решение с помощью LU по схеме частичного выбора реализовано в виде двух функций, одна из которых возвращает две матрицы – L и U, не модифицируя A, а вторая функция решает систему."
   ]
  },
  {
   "cell_type": "code",
   "execution_count": 10,
   "id": "2cd84978",
   "metadata": {},
   "outputs": [
    {
     "name": "stdout",
     "output_type": "stream",
     "text": [
      "method fitted, created a tuple (L, U, P)\n"
     ]
    },
    {
     "data": {
      "text/plain": [
       "matrix([[24.99953776, 25.00173653, 24.99755609, 25.00152706, 24.99964257]])"
      ]
     },
     "execution_count": 10,
     "metadata": {},
     "output_type": "execute_result"
    }
   ],
   "source": [
    "second_without_error = lu_decomposion(create_matrix_without_error(5))\n",
    "second_without_error.fit(partial_pivoting=True, change_origin=False)\n",
    "second_without_error.solve(create_vector(5))"
   ]
  },
  {
   "cell_type": "code",
   "execution_count": 11,
   "id": "d0275ce5",
   "metadata": {},
   "outputs": [
    {
     "data": {
      "text/plain": [
       "array([25.00023964, 24.99910044, 25.00126495, 24.99921028, 25.00018468])"
      ]
     },
     "execution_count": 11,
     "metadata": {},
     "output_type": "execute_result"
    }
   ],
   "source": [
    "np.linalg.solve(create_matrix_without_error(5),create_vector(5))"
   ]
  },
  {
   "cell_type": "code",
   "execution_count": 12,
   "id": "33f08358",
   "metadata": {},
   "outputs": [
    {
     "name": "stdout",
     "output_type": "stream",
     "text": [
      "method fitted, created a tuple (L, U, P)\n"
     ]
    },
    {
     "data": {
      "text/plain": [
       "matrix([[ 5.29361049e-08,  1.18734184e+02, -1.06650882e+02,\n",
       "          1.07089563e+02,  5.82709622e+00]])"
      ]
     },
     "execution_count": 12,
     "metadata": {},
     "output_type": "execute_result"
    }
   ],
   "source": [
    "second_with_error = lu_decomposion(create_matrix_with_error(5))\n",
    "second_with_error.fit(partial_pivoting=True, change_origin=False)\n",
    "second_with_error.solve(create_vector(5))"
   ]
  },
  {
   "cell_type": "code",
   "execution_count": 13,
   "id": "847e4f7c",
   "metadata": {},
   "outputs": [
    {
     "data": {
      "text/plain": [
       "array([ 5.29373391e-08,  1.18734179e+02, -1.06650869e+02,  1.07089550e+02,\n",
       "        5.82710024e+00])"
      ]
     },
     "execution_count": 13,
     "metadata": {},
     "output_type": "execute_result"
    }
   ],
   "source": [
    "np.linalg.solve(create_matrix_with_error(5),create_vector(5))"
   ]
  },
  {
   "cell_type": "code",
   "execution_count": 14,
   "id": "8f01ff7a",
   "metadata": {},
   "outputs": [
    {
     "name": "stdout",
     "output_type": "stream",
     "text": [
      "[[0.01428571 0.01449275 0.01470588 0.01492537 0.01515152]\n",
      " [0.01492537 0.01515152 0.01538462 0.015625   0.01587302]\n",
      " [0.015625   0.01587302 0.01612903 0.01639344 0.01666667]\n",
      " [0.01639344 0.01666667 0.01694915 0.01724138 0.01754386]\n",
      " [0.01724138 0.01754386 0.01785714 0.01818182 0.01851852]]\n",
      "[[0.01428571 0.01449275 0.01470588 0.01492537 0.01515152]\n",
      " [0.01492537 0.01515152 0.01538462 0.015625   0.01587302]\n",
      " [0.015625   0.01587302 0.01612903 0.01639344 0.01666667]\n",
      " [0.01639344 0.01666667 0.01694915 0.01724138 0.01754386]\n",
      " [0.01724138 0.01754386 0.01785714 0.01818182 0.01851852]]\n"
     ]
    }
   ],
   "source": [
    "print(second_without_error.origin_matrix)\n",
    "print(np.dot(np.dot(second_without_error.lu[0], second_without_error.lu[1]),second_without_error.lu[2]))"
   ]
  },
  {
   "cell_type": "code",
   "execution_count": 15,
   "id": "a6388f21",
   "metadata": {
    "scrolled": false
   },
   "outputs": [
    {
     "data": {
      "text/plain": [
       "array([[0.01428571, 0.01449275, 0.01470588, 0.01492537, 0.01515152],\n",
       "       [0.01492537, 0.01515152, 0.01538462, 0.015625  , 0.01587302],\n",
       "       [0.015625  , 0.01587302, 0.01612903, 0.01639344, 0.01666667],\n",
       "       [0.01639344, 0.01666667, 0.01694915, 0.01724138, 0.01754386],\n",
       "       [0.01724138, 0.01754386, 0.01785714, 0.01818182, 0.01851852]])"
      ]
     },
     "execution_count": 15,
     "metadata": {},
     "output_type": "execute_result"
    }
   ],
   "source": [
    "second_without_error.origin_matrix"
   ]
  },
  {
   "cell_type": "markdown",
   "id": "16efea24",
   "metadata": {},
   "source": [
    "Функция подсчета абсолютной погрешности решения"
   ]
  },
  {
   "cell_type": "code",
   "execution_count": 28,
   "id": "89a03c6c",
   "metadata": {},
   "outputs": [
    {
     "data": {
      "text/plain": [
       "matrix([[ 5.29361049e-08,  1.18734184e+02, -1.06650882e+02,\n",
       "          1.07089563e+02,  5.82709622e+00]])"
      ]
     },
     "execution_count": 28,
     "metadata": {},
     "output_type": "execute_result"
    }
   ],
   "source": [
    "def absolute_error(vector):\n",
    "    accurate = [N for i in range(vector.shape[0])]\n",
    "    return abs(accurate - vector.reshape([1,-1])).max()\n",
    "\n",
    "second_with_error.solve(create_vector(5)).reshape([1,-1])"
   ]
  },
  {
   "attachments": {
    "image.png": {
     "image/png": "[encoded data removed]"
    }
   },
   "cell_type": "markdown",
   "id": "5ca19e68",
   "metadata": {},
   "source": [
    "Тут считается число обусловленности матрицы А  \n",
    "Как видим оно огромно, следовательно имеет место катастрафическая потеря точности  \n",
    "Последняя строка демонстрирует выполнение теоретической оценки точности  \n",
    "![image.png](attachment:image.png)"
   ]
  },
  {
   "cell_type": "code",
   "execution_count": 46,
   "id": "516dc4aa",
   "metadata": {},
   "outputs": [
    {
     "name": "stdout",
     "output_type": "stream",
     "text": [
      "Число обусловленности: 2490880987676.6104\n",
      "Относительная погрешность А: 0.011192853951610076\n",
      "Относительная погрешность b: 14.065901297930004\n",
      "True\n"
     ]
    }
   ],
   "source": [
    "matrix_for_errors_1 = create_matrix_without_error(5) \n",
    "matrix_for_errors_2 = create_matrix_with_error(5)\n",
    "\n",
    "nu_delta = np.linalg.norm(matrix_for_errors_1, np.inf) * np.linalg.norm(np.linalg.inv(matrix_for_errors_1), np.inf)\n",
    "\n",
    "matrix_relational_error = np.linalg.norm(matrix_for_errors_1 - matrix_for_errors_2,np.inf) / \\\n",
    "    np.linalg.norm(matrix_for_errors_1,np.inf)\n",
    "\n",
    "accurate_for_errors = [N for i in range(5)]\n",
    "vector_relational_error = np.linalg.norm(accurate_for_errors - second_with_error.solution, np.inf) / \\\n",
    "    np.linalg.norm(accurate_for_errors, np.inf)\n",
    "\n",
    "print('Число обусловленности:', nu_delta)\n",
    "print('Относительная погрешность А:', matrix_relational_error)\n",
    "print('Относительная погрешность b:', vector_relational_error)\n",
    "print(absolute_error(second_with_error.solution) / max(accurate_for_errors) <= \\\n",
    "      nu_delta*(matrix_relational_error + b_relational_error))"
   ]
  },
  {
   "cell_type": "markdown",
   "id": "4d05284a",
   "metadata": {},
   "source": [
    "Далее строятся графики погрешностей для обоих методов при $5\\le n \\le 15$"
   ]
  },
  {
   "cell_type": "code",
   "execution_count": 154,
   "id": "bccf0fc2",
   "metadata": {
    "scrolled": false
   },
   "outputs": [],
   "source": [
    "abs_error_list_1 = []\n",
    "abs_error_list_2 = []\n",
    "for i in range(5,16,1):\n",
    "    #1\n",
    "    matrix_for_plot_1 = Create_A_with_error(i)\n",
    "    vector_for_plot_1 = Create_B(i)\n",
    "\n",
    "    #2\n",
    "    matrix_for_plot_1 = Create_A_with_error(i)\n",
    "    vector_for_plot_1 = Create_B(i)\n",
    "\n"
   ]
  },
  {
   "cell_type": "code",
   "execution_count": 155,
   "id": "12768046",
   "metadata": {},
   "outputs": [
    {
     "data": {
      "text/plain": [
       "<matplotlib.legend.Legend at 0x213a9eb6310>"
      ]
     },
     "execution_count": 155,
     "metadata": {},
     "output_type": "execute_result"
    },
    {
     "data": {
      "image/png": "[encoded data removed]",
      "text/plain": [
       "<Figure size 1080x720 with 1 Axes>"
      ]
     },
     "metadata": {
      "needs_background": "light"
     },
     "output_type": "display_data"
    }
   ],
   "source": [
    "fig, ax = plt.subplots(1, 1, figsize = (15, 10))\n",
    "ax.plot([i for i in range(5,16,1)],abs_error_list_1,label = \"Обычное LU разложение\")\n",
    "ax.plot([i for i in range(5,16,1)],abs_error_list_2,label = \"LU разложение по схеме частичного выбора\")\n",
    "ax.legend()"
   ]
  },
  {
   "cell_type": "markdown",
   "id": "8e49e05f",
   "metadata": {},
   "source": [
    "Как видим, оба метода при данной матрице дают очень искаженные результаты, вследствие плохой обусловленности матрицы."
   ]
  },
  {
   "cell_type": "markdown",
   "id": "b150c964",
   "metadata": {},
   "source": [
    "# Задача 3.2"
   ]
  },
  {
   "attachments": {
    "image-2.png": {
     "image/png": "[encoded data removed]"
    }
   },
   "cell_type": "markdown",
   "id": "477eb65a",
   "metadata": {},
   "source": [
    "на  главной диагонали элементы равны  120, на 6-ой  поддиагонали и на 16-ой поддиагонали элементы равны 24.\n",
    "![image-2.png](attachment:image-2.png)\n",
    "n = 45\n"
   ]
  },
  {
   "cell_type": "markdown",
   "id": "d9b61478",
   "metadata": {},
   "source": [
    "Создаем матрицу А и вектор b"
   ]
  },
  {
   "cell_type": "code",
   "execution_count": 156,
   "id": "e74fc6d6",
   "metadata": {},
   "outputs": [],
   "source": [
    "n = 45\n",
    "A_3_2 = np.zeros((n,n))\n",
    "b_3_2 = np.zeros((n,1))\n",
    "for i in range(n):\n",
    "    if ((i+6)>=0) & ((i+6) <= n-1):\n",
    "        A_3_2[i+6][i] = 24\n",
    "    if ((i+16)>=0) & ((i+16) <= n-1):\n",
    "        A_3_2[i][i+16] = 24\n",
    "    A_3_2[i,i] = 120\n",
    "    \n",
    "    b_3_2[i] = (i+1)*np.e**(10/(i+1))"
   ]
  },
  {
   "cell_type": "code",
   "execution_count": 157,
   "id": "d94083a0",
   "metadata": {},
   "outputs": [
    {
     "name": "stdout",
     "output_type": "stream",
     "text": [
      "[[120.   0.   0. ...   0.   0.   0.]\n",
      " [  0. 120.   0. ...   0.   0.   0.]\n",
      " [  0.   0. 120. ...   0.   0.   0.]\n",
      " ...\n",
      " [  0.   0.   0. ... 120.   0.   0.]\n",
      " [  0.   0.   0. ...   0. 120.   0.]\n",
      " [  0.   0.   0. ...   0.   0. 120.]]\n",
      "[[22026.46579481   296.82631821    84.09487468    48.72997584\n",
      "     36.94528049    31.7669403     29.20913719    27.92274366\n",
      "     27.339586      27.18281828    27.30271593    27.61171069\n",
      "     28.05537194    28.59817898    29.21601062    29.89193532\n",
      "     30.61373113    31.37236198    32.16100741    32.97442541\n",
      "     33.80852244    34.66005627    35.52642638    36.40552311\n",
      "     37.29561744    38.19527904    39.10331462    40.01872091\n",
      "     40.94064833    41.86837275    42.80127319    43.73881412\n",
      "     44.68053126    45.62602018    46.57492691    47.52694038\n",
      "     48.48178609    49.4392209     50.39902867    51.36101667\n",
      "     52.32501242    53.29086118    54.25842366    55.2275742\n",
      "     56.19819911]]\n"
     ]
    }
   ],
   "source": [
    "print(A_3_2)\n",
    "print(b_3_2.T)"
   ]
  },
  {
   "cell_type": "markdown",
   "id": "b170d611",
   "metadata": {},
   "source": [
    "Определим функцию метода решения данной системы"
   ]
  },
  {
   "cell_type": "code",
   "execution_count": 158,
   "id": "3cf89ba5",
   "metadata": {},
   "outputs": [],
   "source": [
    "def Solve_3_2(A_, b_):\n",
    "    x = np.zeros((n,1))\n",
    "    A = np.copy(A_)\n",
    "    b = np.copy(b_)\n",
    "    for i in range(n):\n",
    "        if (i-6) < 0 :\n",
    "            x[i] = b[i] / A[i,i]\n",
    "        elif (i-15) < 0:\n",
    "            x[i] = b[i] / A[i,i] - A[i,i-6] / A[i,i] * x[i-6]\n",
    "        else:\n",
    "            x[i] = b[i] / A[i,i] - A[i,i-6] / A[i,i] * x[i-6] - A[i,i-16] / A[i,i] * x[i-16]\n",
    "    return x"
   ]
  },
  {
   "cell_type": "code",
   "execution_count": 159,
   "id": "8df97ced",
   "metadata": {},
   "outputs": [
    {
     "data": {
      "text/plain": [
       "array([[ 1.83553882e+02,  2.47355265e+00,  7.00790622e-01,\n",
       "         4.06083132e-01,  3.07877337e-01,  2.64724503e-01,\n",
       "        -3.64673668e+01, -2.62021000e-01,  8.76717588e-02,\n",
       "         1.45306859e-01,  1.65947165e-01,  1.77152689e-01,\n",
       "         7.52726814e+00,  2.90722358e-01,  2.25932403e-01,\n",
       "         2.20038089e-01,  2.21924993e-01,  2.26005812e-01,\n",
       "        -1.23744523e+00,  2.16642407e-01,  2.36551206e-01,\n",
       "         2.44826184e-01,  2.51668555e-01,  2.58178197e-01,\n",
       "         5.58285858e-01,  2.74965511e-01,  2.78550714e-01,\n",
       "         2.84524104e-01,  2.90838359e-01,  2.97267467e-01,\n",
       "         2.45020105e-01,  3.09497016e-01,  3.16627618e-01,\n",
       "         3.23312014e-01,  3.29956719e-01,  3.36604343e-01,\n",
       "         3.55010863e-01,  3.50094104e-01,  3.56666382e-01,\n",
       "         3.63346069e-01,  3.70050426e-01,  3.76769641e-01,\n",
       "         3.81151358e-01,  3.90210964e-01,  3.96985049e-01]])"
      ]
     },
     "execution_count": 159,
     "metadata": {},
     "output_type": "execute_result"
    }
   ],
   "source": [
    "Solve_3_2(A_3_2,b_3_2).T"
   ]
  },
  {
   "cell_type": "code",
   "execution_count": 160,
   "id": "546e2961",
   "metadata": {},
   "outputs": [
    {
     "data": {
      "text/plain": [
       "array([[ 1.83521215e+02,  2.44037124e+00,  9.60489871e-01,\n",
       "         3.73912117e-01,  2.73822105e-01,  2.27366920e-01,\n",
       "        -3.64993451e+01, -2.94996923e-01, -6.36735672e-02,\n",
       "         1.09606490e-01,  1.29662724e-01,  1.41026866e-01,\n",
       "         7.48903129e+00,  2.35459363e-01,  2.04747109e-01,\n",
       "         1.62707054e-01,  1.63333427e-01,  1.65907078e-01,\n",
       "        -1.29849624e+00,  1.60855075e-01,  1.70276160e-01,\n",
       "         1.86787912e-01,  1.92558178e-01,  1.98061029e-01,\n",
       "         4.97027382e-01,  2.10672861e-01,  2.15477438e-01,\n",
       "         2.17986697e-01,  2.23162507e-01,  3.09290900e-01,\n",
       "         2.57271800e-01,  3.22355545e-01,  3.29242273e-01,\n",
       "         3.36619495e-01,  3.43491890e-01,  3.34199656e-01,\n",
       "         3.52560524e-01,  3.47522398e-01,  3.54143451e-01,\n",
       "         3.60684573e-01,  3.67343392e-01,  3.77250579e-01,\n",
       "         3.81641426e-01,  3.90725305e-01,  3.97489636e-01]])"
      ]
     },
     "execution_count": 160,
     "metadata": {},
     "output_type": "execute_result"
    }
   ],
   "source": [
    "np.linalg.solve(A_3_2,b_3_2).T"
   ]
  },
  {
   "cell_type": "markdown",
   "id": "d9f973b2",
   "metadata": {},
   "source": [
    "Сравнивая результаты убеждаемся, что функция определена правильно"
   ]
  },
  {
   "cell_type": "markdown",
   "id": "21a9f31a",
   "metadata": {},
   "source": [
    "# Задача 3.3"
   ]
  },
  {
   "attachments": {
    "image-2.png": {
     "image/png": "[encoded data removed]"
    },
    "image.png": {
     "image/png": "[encoded data removed]"
    }
   },
   "cell_type": "markdown",
   "id": "34dd0939",
   "metadata": {},
   "source": [
    "Решить задачу итерационным методом. указанным в  индивидуальном варианте . Вектор правой части задается  как ![image.png](attachment:image.png) , где  ![image-2.png](attachment:image-2.png)."
   ]
  },
  {
   "attachments": {
    "image-2.png": {
     "image/png": "[encoded data removed]"
    },
    "image.png": {
     "image/png": "[encoded data removed]"
    }
   },
   "cell_type": "markdown",
   "id": "1ad785bb",
   "metadata": {},
   "source": [
    "![image.png](attachment:image.png)\n",
    "![image-2.png](attachment:image-2.png)\n",
    "m = 26  \n",
    "Метод минимальных невязок"
   ]
  },
  {
   "cell_type": "markdown",
   "id": "0ea3448a",
   "metadata": {},
   "source": [
    "Определяем все нужные константы, матрицу А и вектор b"
   ]
  },
  {
   "cell_type": "code",
   "execution_count": 161,
   "id": "938906a5",
   "metadata": {},
   "outputs": [],
   "source": [
    "m = 26\n",
    "N = 25\n",
    "betta = (abs(66 - N) + 5) * m\n",
    "A_3_3 = np.zeros((m,m))\n",
    "for i in range(m):\n",
    "    for j in range(m):\n",
    "        A_3_3[i,j] = np.cos(i+j) / (0.1 * betta) + 0.1 * betta * np.e**(-(i - j)**2)\n",
    "\n",
    "x_for_b_3 = [N for i in range(m)]\n",
    "x_for_b_3 = np.asarray(x_for_b_3)\n",
    "B_3_3 = np.dot(A_3_3,x_for_b_3)"
   ]
  },
  {
   "cell_type": "markdown",
   "id": "33757f29",
   "metadata": {},
   "source": [
    "Определяем функцию для данного метода"
   ]
  },
  {
   "cell_type": "code",
   "execution_count": 162,
   "id": "8e54f89e",
   "metadata": {
    "scrolled": false
   },
   "outputs": [],
   "source": [
    "def Method_of_minimal_residual(Matrix, B, eps):\n",
    "    x = np.zeros(B.shape[0])\n",
    "    r = np.dot(Matrix,x) - B\n",
    "    r0 = r\n",
    "    tau = (np.dot(np.dot(Matrix,r),r)) / (np.dot(np.dot(Matrix,r),np.dot(Matrix,r)))\n",
    "    x = x - tau*r\n",
    "    while (np.linalg.norm(r,np.inf)) / (np.linalg.norm(r0,np.inf)) > eps:\n",
    "        r = np.dot(Matrix,x) - B\n",
    "        tau = (np.dot(np.dot(Matrix,r),r)) / (np.dot(np.dot(Matrix,r),np.dot(Matrix,r)))\n",
    "        x = x - tau*r\n",
    "    return x"
   ]
  },
  {
   "cell_type": "markdown",
   "id": "94f4e470",
   "metadata": {},
   "source": [
    "Сравниваем результат со встроенной функцией, уменьшаем невязку в 10000000 раз"
   ]
  },
  {
   "cell_type": "code",
   "execution_count": 163,
   "id": "031ee625",
   "metadata": {
    "scrolled": false
   },
   "outputs": [
    {
     "name": "stdout",
     "output_type": "stream",
     "text": [
      "[24.99999772 25.00000425 24.99999396 25.0000067  24.99999265 25.00000655\n",
      " 24.99999363 25.00000465 24.99999568 25.00000237 24.99999763 25.00000054\n",
      " 24.99999913 24.99999913 25.00000054 24.99999763 25.00000237 24.99999568\n",
      " 25.00000465 24.99999363 25.00000655 24.99999265 25.0000067  24.99999396\n",
      " 25.00000425 24.99999772]\n",
      "[25. 25. 25. 25. 25. 25. 25. 25. 25. 25. 25. 25. 25. 25. 25. 25. 25. 25.\n",
      " 25. 25. 25. 25. 25. 25. 25. 25.]\n"
     ]
    }
   ],
   "source": [
    "print(Method_of_minimal_residual(A_3_3,B_3_3,1/10000000))\n",
    "print(np.linalg.solve(A_3_3,B_3_3))"
   ]
  },
  {
   "cell_type": "markdown",
   "id": "b72d82a4",
   "metadata": {},
   "source": [
    "Получили ответ очень близкий к точному решению. Если вязть еще большее число в которое мы уменьшаем невязку, о получим точное значение"
   ]
  },
  {
   "cell_type": "code",
   "execution_count": 167,
   "id": "6e48c0c9",
   "metadata": {},
   "outputs": [
    {
     "name": "stdout",
     "output_type": "stream",
     "text": [
      "[25. 25. 25. 25. 25. 25. 25. 25. 25. 25. 25. 25. 25. 25. 25. 25. 25. 25.\n",
      " 25. 25. 25. 25. 25. 25. 25. 25.]\n",
      "[25. 25. 25. 25. 25. 25. 25. 25. 25. 25. 25. 25. 25. 25. 25. 25. 25. 25.\n",
      " 25. 25. 25. 25. 25. 25. 25. 25.]\n"
     ]
    }
   ],
   "source": [
    "print(Method_of_minimal_residual(A_3_3,B_3_3,1/100000000000))\n",
    "print(np.linalg.solve(A_3_3,B_3_3))"
   ]
  },
  {
   "cell_type": "code",
   "execution_count": null,
   "id": "3d23dae1",
   "metadata": {},
   "outputs": [],
   "source": []
  }
 ],
 "metadata": {
  "kernelspec": {
   "display_name": "Python 3 (ipykernel)",
   "language": "python",
   "name": "python3"
  },
  "language_info": {
   "codemirror_mode": {
    "name": "ipython",
    "version": 3
   },
   "file_extension": ".py",
   "mimetype": "text/x-python",
   "name": "python",
   "nbconvert_exporter": "python",
   "pygments_lexer": "ipython3",
   "version": "3.9.7"
  }
 },
 "nbformat": 4,
 "nbformat_minor": 5
}
